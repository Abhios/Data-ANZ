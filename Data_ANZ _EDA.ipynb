{
 "cells": [
  {
   "cell_type": "markdown",
   "metadata": {
    "colab_type": "text",
    "id": "Ssg9FOfVFa_p"
   },
   "source": [
    "# ANZ Virtula Intrenship \n",
    "## Data @ ANZ"
   ]
  },
  {
   "cell_type": "code",
   "execution_count": 1,
   "metadata": {
    "colab": {
     "base_uri": "https://localhost:8080/",
     "height": 71
    },
    "colab_type": "code",
    "executionInfo": {
     "elapsed": 1047,
     "status": "ok",
     "timestamp": 1592058615556,
     "user": {
      "displayName": "Abhilash Kumar V",
      "photoUrl": "",
      "userId": "14960077301058335747"
     },
     "user_tz": -330
    },
    "id": "yp7itUttFa_r",
    "outputId": "33d56942-d2d5-4928-b354-be2ca05c1471",
    "scrolled": true
   },
   "outputs": [],
   "source": [
    "import pandas as pd\n",
    "import numpy as np \n",
    "import matplotlib.pyplot as plt\n",
    "import seaborn as sns\n",
    "import geopandas as gpd\n",
    "from shapely.geometry import Point,Polygon\n",
    "import descartes"
   ]
  },
  {
   "cell_type": "code",
   "execution_count": 2,
   "metadata": {},
   "outputs": [],
   "source": [
    "#!pip install descartes"
   ]
  },
  {
   "cell_type": "code",
   "execution_count": 3,
   "metadata": {
    "colab": {
     "base_uri": "https://localhost:8080/",
     "height": 326
    },
    "colab_type": "code",
    "executionInfo": {
     "elapsed": 882,
     "status": "error",
     "timestamp": 1592058960653,
     "user": {
      "displayName": "Abhilash Kumar V",
      "photoUrl": "",
      "userId": "14960077301058335747"
     },
     "user_tz": -330
    },
    "id": "D6KvaNpdFa_0",
    "outputId": "8b611673-25bb-456f-8657-c54d37d6b277"
   },
   "outputs": [],
   "source": [
    "data=pd.read_excel('ANZ synthesised transaction dataset.xlsx')"
   ]
  },
  {
   "cell_type": "code",
   "execution_count": 4,
   "metadata": {
    "colab": {},
    "colab_type": "code",
    "id": "d6RNdazxFa_6",
    "outputId": "b90533ea-71c2-4fc1-f8e6-882a2ee9318c"
   },
   "outputs": [
    {
     "data": {
      "text/html": [
       "<div>\n",
       "<style scoped>\n",
       "    .dataframe tbody tr th:only-of-type {\n",
       "        vertical-align: middle;\n",
       "    }\n",
       "\n",
       "    .dataframe tbody tr th {\n",
       "        vertical-align: top;\n",
       "    }\n",
       "\n",
       "    .dataframe thead th {\n",
       "        text-align: right;\n",
       "    }\n",
       "</style>\n",
       "<table border=\"1\" class=\"dataframe\">\n",
       "  <thead>\n",
       "    <tr style=\"text-align: right;\">\n",
       "      <th></th>\n",
       "      <th>status</th>\n",
       "      <th>card_present_flag</th>\n",
       "      <th>bpay_biller_code</th>\n",
       "      <th>account</th>\n",
       "      <th>currency</th>\n",
       "      <th>long_lat</th>\n",
       "      <th>txn_description</th>\n",
       "      <th>merchant_id</th>\n",
       "      <th>merchant_code</th>\n",
       "      <th>first_name</th>\n",
       "      <th>...</th>\n",
       "      <th>age</th>\n",
       "      <th>merchant_suburb</th>\n",
       "      <th>merchant_state</th>\n",
       "      <th>extraction</th>\n",
       "      <th>amount</th>\n",
       "      <th>transaction_id</th>\n",
       "      <th>country</th>\n",
       "      <th>customer_id</th>\n",
       "      <th>merchant_long_lat</th>\n",
       "      <th>movement</th>\n",
       "    </tr>\n",
       "  </thead>\n",
       "  <tbody>\n",
       "    <tr>\n",
       "      <td>0</td>\n",
       "      <td>authorized</td>\n",
       "      <td>1.0</td>\n",
       "      <td>NaN</td>\n",
       "      <td>ACC-1598451071</td>\n",
       "      <td>AUD</td>\n",
       "      <td>153.41 -27.95</td>\n",
       "      <td>POS</td>\n",
       "      <td>81c48296-73be-44a7-befa-d053f48ce7cd</td>\n",
       "      <td>NaN</td>\n",
       "      <td>Diana</td>\n",
       "      <td>...</td>\n",
       "      <td>26</td>\n",
       "      <td>Ashmore</td>\n",
       "      <td>QLD</td>\n",
       "      <td>2018-08-01T01:01:15.000+0000</td>\n",
       "      <td>16.25</td>\n",
       "      <td>a623070bfead4541a6b0fff8a09e706c</td>\n",
       "      <td>Australia</td>\n",
       "      <td>CUS-2487424745</td>\n",
       "      <td>153.38 -27.99</td>\n",
       "      <td>debit</td>\n",
       "    </tr>\n",
       "    <tr>\n",
       "      <td>1</td>\n",
       "      <td>authorized</td>\n",
       "      <td>0.0</td>\n",
       "      <td>NaN</td>\n",
       "      <td>ACC-1598451071</td>\n",
       "      <td>AUD</td>\n",
       "      <td>153.41 -27.95</td>\n",
       "      <td>SALES-POS</td>\n",
       "      <td>830a451c-316e-4a6a-bf25-e37caedca49e</td>\n",
       "      <td>NaN</td>\n",
       "      <td>Diana</td>\n",
       "      <td>...</td>\n",
       "      <td>26</td>\n",
       "      <td>Sydney</td>\n",
       "      <td>NSW</td>\n",
       "      <td>2018-08-01T01:13:45.000+0000</td>\n",
       "      <td>14.19</td>\n",
       "      <td>13270a2a902145da9db4c951e04b51b9</td>\n",
       "      <td>Australia</td>\n",
       "      <td>CUS-2487424745</td>\n",
       "      <td>151.21 -33.87</td>\n",
       "      <td>debit</td>\n",
       "    </tr>\n",
       "    <tr>\n",
       "      <td>2</td>\n",
       "      <td>authorized</td>\n",
       "      <td>1.0</td>\n",
       "      <td>NaN</td>\n",
       "      <td>ACC-1222300524</td>\n",
       "      <td>AUD</td>\n",
       "      <td>151.23 -33.94</td>\n",
       "      <td>POS</td>\n",
       "      <td>835c231d-8cdf-4e96-859d-e9d571760cf0</td>\n",
       "      <td>NaN</td>\n",
       "      <td>Michael</td>\n",
       "      <td>...</td>\n",
       "      <td>38</td>\n",
       "      <td>Sydney</td>\n",
       "      <td>NSW</td>\n",
       "      <td>2018-08-01T01:26:15.000+0000</td>\n",
       "      <td>6.42</td>\n",
       "      <td>feb79e7ecd7048a5a36ec889d1a94270</td>\n",
       "      <td>Australia</td>\n",
       "      <td>CUS-2142601169</td>\n",
       "      <td>151.21 -33.87</td>\n",
       "      <td>debit</td>\n",
       "    </tr>\n",
       "    <tr>\n",
       "      <td>3</td>\n",
       "      <td>authorized</td>\n",
       "      <td>1.0</td>\n",
       "      <td>NaN</td>\n",
       "      <td>ACC-1037050564</td>\n",
       "      <td>AUD</td>\n",
       "      <td>153.10 -27.66</td>\n",
       "      <td>SALES-POS</td>\n",
       "      <td>48514682-c78a-4a88-b0da-2d6302e64673</td>\n",
       "      <td>NaN</td>\n",
       "      <td>Rhonda</td>\n",
       "      <td>...</td>\n",
       "      <td>40</td>\n",
       "      <td>Buderim</td>\n",
       "      <td>QLD</td>\n",
       "      <td>2018-08-01T01:38:45.000+0000</td>\n",
       "      <td>40.90</td>\n",
       "      <td>2698170da3704fd981b15e64a006079e</td>\n",
       "      <td>Australia</td>\n",
       "      <td>CUS-1614226872</td>\n",
       "      <td>153.05 -26.68</td>\n",
       "      <td>debit</td>\n",
       "    </tr>\n",
       "    <tr>\n",
       "      <td>4</td>\n",
       "      <td>authorized</td>\n",
       "      <td>1.0</td>\n",
       "      <td>NaN</td>\n",
       "      <td>ACC-1598451071</td>\n",
       "      <td>AUD</td>\n",
       "      <td>153.41 -27.95</td>\n",
       "      <td>SALES-POS</td>\n",
       "      <td>b4e02c10-0852-4273-b8fd-7b3395e32eb0</td>\n",
       "      <td>NaN</td>\n",
       "      <td>Diana</td>\n",
       "      <td>...</td>\n",
       "      <td>26</td>\n",
       "      <td>Mermaid Beach</td>\n",
       "      <td>QLD</td>\n",
       "      <td>2018-08-01T01:51:15.000+0000</td>\n",
       "      <td>3.25</td>\n",
       "      <td>329adf79878c4cf0aeb4188b4691c266</td>\n",
       "      <td>Australia</td>\n",
       "      <td>CUS-2487424745</td>\n",
       "      <td>153.44 -28.06</td>\n",
       "      <td>debit</td>\n",
       "    </tr>\n",
       "  </tbody>\n",
       "</table>\n",
       "<p>5 rows × 23 columns</p>\n",
       "</div>"
      ],
      "text/plain": [
       "       status  card_present_flag bpay_biller_code         account currency  \\\n",
       "0  authorized                1.0              NaN  ACC-1598451071      AUD   \n",
       "1  authorized                0.0              NaN  ACC-1598451071      AUD   \n",
       "2  authorized                1.0              NaN  ACC-1222300524      AUD   \n",
       "3  authorized                1.0              NaN  ACC-1037050564      AUD   \n",
       "4  authorized                1.0              NaN  ACC-1598451071      AUD   \n",
       "\n",
       "        long_lat txn_description                           merchant_id  \\\n",
       "0  153.41 -27.95             POS  81c48296-73be-44a7-befa-d053f48ce7cd   \n",
       "1  153.41 -27.95       SALES-POS  830a451c-316e-4a6a-bf25-e37caedca49e   \n",
       "2  151.23 -33.94             POS  835c231d-8cdf-4e96-859d-e9d571760cf0   \n",
       "3  153.10 -27.66       SALES-POS  48514682-c78a-4a88-b0da-2d6302e64673   \n",
       "4  153.41 -27.95       SALES-POS  b4e02c10-0852-4273-b8fd-7b3395e32eb0   \n",
       "\n",
       "   merchant_code first_name  ...  age merchant_suburb merchant_state  \\\n",
       "0            NaN      Diana  ...   26         Ashmore            QLD   \n",
       "1            NaN      Diana  ...   26          Sydney            NSW   \n",
       "2            NaN    Michael  ...   38          Sydney            NSW   \n",
       "3            NaN     Rhonda  ...   40         Buderim            QLD   \n",
       "4            NaN      Diana  ...   26   Mermaid Beach            QLD   \n",
       "\n",
       "                     extraction amount                    transaction_id  \\\n",
       "0  2018-08-01T01:01:15.000+0000  16.25  a623070bfead4541a6b0fff8a09e706c   \n",
       "1  2018-08-01T01:13:45.000+0000  14.19  13270a2a902145da9db4c951e04b51b9   \n",
       "2  2018-08-01T01:26:15.000+0000   6.42  feb79e7ecd7048a5a36ec889d1a94270   \n",
       "3  2018-08-01T01:38:45.000+0000  40.90  2698170da3704fd981b15e64a006079e   \n",
       "4  2018-08-01T01:51:15.000+0000   3.25  329adf79878c4cf0aeb4188b4691c266   \n",
       "\n",
       "     country     customer_id merchant_long_lat movement  \n",
       "0  Australia  CUS-2487424745     153.38 -27.99    debit  \n",
       "1  Australia  CUS-2487424745     151.21 -33.87    debit  \n",
       "2  Australia  CUS-2142601169     151.21 -33.87    debit  \n",
       "3  Australia  CUS-1614226872     153.05 -26.68    debit  \n",
       "4  Australia  CUS-2487424745     153.44 -28.06    debit  \n",
       "\n",
       "[5 rows x 23 columns]"
      ]
     },
     "execution_count": 4,
     "metadata": {},
     "output_type": "execute_result"
    }
   ],
   "source": [
    "data.head()"
   ]
  },
  {
   "cell_type": "code",
   "execution_count": null,
   "metadata": {
    "colab": {},
    "colab_type": "code",
    "id": "tUFrDCD7J4Bb"
   },
   "outputs": [],
   "source": []
  },
  {
   "cell_type": "code",
   "execution_count": 5,
   "metadata": {
    "colab": {},
    "colab_type": "code",
    "id": "ygsGvskZFbAC",
    "outputId": "f60dd9d1-9731-4236-fa6b-9005d7d9d2ec"
   },
   "outputs": [
    {
     "data": {
      "text/html": [
       "<div>\n",
       "<style scoped>\n",
       "    .dataframe tbody tr th:only-of-type {\n",
       "        vertical-align: middle;\n",
       "    }\n",
       "\n",
       "    .dataframe tbody tr th {\n",
       "        vertical-align: top;\n",
       "    }\n",
       "\n",
       "    .dataframe thead th {\n",
       "        text-align: right;\n",
       "    }\n",
       "</style>\n",
       "<table border=\"1\" class=\"dataframe\">\n",
       "  <thead>\n",
       "    <tr style=\"text-align: right;\">\n",
       "      <th></th>\n",
       "      <th>card_present_flag</th>\n",
       "      <th>merchant_code</th>\n",
       "      <th>balance</th>\n",
       "      <th>age</th>\n",
       "      <th>amount</th>\n",
       "    </tr>\n",
       "  </thead>\n",
       "  <tbody>\n",
       "    <tr>\n",
       "      <td>count</td>\n",
       "      <td>7717.000000</td>\n",
       "      <td>883.0</td>\n",
       "      <td>12043.000000</td>\n",
       "      <td>12043.000000</td>\n",
       "      <td>12043.000000</td>\n",
       "    </tr>\n",
       "    <tr>\n",
       "      <td>mean</td>\n",
       "      <td>0.802644</td>\n",
       "      <td>0.0</td>\n",
       "      <td>14704.195553</td>\n",
       "      <td>30.582330</td>\n",
       "      <td>187.933588</td>\n",
       "    </tr>\n",
       "    <tr>\n",
       "      <td>std</td>\n",
       "      <td>0.398029</td>\n",
       "      <td>0.0</td>\n",
       "      <td>31503.722652</td>\n",
       "      <td>10.046343</td>\n",
       "      <td>592.599934</td>\n",
       "    </tr>\n",
       "    <tr>\n",
       "      <td>min</td>\n",
       "      <td>0.000000</td>\n",
       "      <td>0.0</td>\n",
       "      <td>0.240000</td>\n",
       "      <td>18.000000</td>\n",
       "      <td>0.100000</td>\n",
       "    </tr>\n",
       "    <tr>\n",
       "      <td>25%</td>\n",
       "      <td>1.000000</td>\n",
       "      <td>0.0</td>\n",
       "      <td>3158.585000</td>\n",
       "      <td>22.000000</td>\n",
       "      <td>16.000000</td>\n",
       "    </tr>\n",
       "    <tr>\n",
       "      <td>50%</td>\n",
       "      <td>1.000000</td>\n",
       "      <td>0.0</td>\n",
       "      <td>6432.010000</td>\n",
       "      <td>28.000000</td>\n",
       "      <td>29.000000</td>\n",
       "    </tr>\n",
       "    <tr>\n",
       "      <td>75%</td>\n",
       "      <td>1.000000</td>\n",
       "      <td>0.0</td>\n",
       "      <td>12465.945000</td>\n",
       "      <td>38.000000</td>\n",
       "      <td>53.655000</td>\n",
       "    </tr>\n",
       "    <tr>\n",
       "      <td>max</td>\n",
       "      <td>1.000000</td>\n",
       "      <td>0.0</td>\n",
       "      <td>267128.520000</td>\n",
       "      <td>78.000000</td>\n",
       "      <td>8835.980000</td>\n",
       "    </tr>\n",
       "  </tbody>\n",
       "</table>\n",
       "</div>"
      ],
      "text/plain": [
       "       card_present_flag  merchant_code        balance           age  \\\n",
       "count        7717.000000          883.0   12043.000000  12043.000000   \n",
       "mean            0.802644            0.0   14704.195553     30.582330   \n",
       "std             0.398029            0.0   31503.722652     10.046343   \n",
       "min             0.000000            0.0       0.240000     18.000000   \n",
       "25%             1.000000            0.0    3158.585000     22.000000   \n",
       "50%             1.000000            0.0    6432.010000     28.000000   \n",
       "75%             1.000000            0.0   12465.945000     38.000000   \n",
       "max             1.000000            0.0  267128.520000     78.000000   \n",
       "\n",
       "             amount  \n",
       "count  12043.000000  \n",
       "mean     187.933588  \n",
       "std      592.599934  \n",
       "min        0.100000  \n",
       "25%       16.000000  \n",
       "50%       29.000000  \n",
       "75%       53.655000  \n",
       "max     8835.980000  "
      ]
     },
     "execution_count": 5,
     "metadata": {},
     "output_type": "execute_result"
    }
   ],
   "source": [
    "data.describe()"
   ]
  },
  {
   "cell_type": "code",
   "execution_count": 6,
   "metadata": {
    "colab": {},
    "colab_type": "code",
    "id": "u54eDNsMFbAH",
    "outputId": "ea3f0f04-01d8-4209-9bdd-6002e7e346da"
   },
   "outputs": [
    {
     "data": {
      "text/html": [
       "<div>\n",
       "<style scoped>\n",
       "    .dataframe tbody tr th:only-of-type {\n",
       "        vertical-align: middle;\n",
       "    }\n",
       "\n",
       "    .dataframe tbody tr th {\n",
       "        vertical-align: top;\n",
       "    }\n",
       "\n",
       "    .dataframe thead th {\n",
       "        text-align: right;\n",
       "    }\n",
       "</style>\n",
       "<table border=\"1\" class=\"dataframe\">\n",
       "  <thead>\n",
       "    <tr style=\"text-align: right;\">\n",
       "      <th></th>\n",
       "      <th>status</th>\n",
       "      <th>card_present_flag</th>\n",
       "      <th>bpay_biller_code</th>\n",
       "      <th>account</th>\n",
       "      <th>currency</th>\n",
       "      <th>long_lat</th>\n",
       "      <th>txn_description</th>\n",
       "      <th>merchant_id</th>\n",
       "      <th>merchant_code</th>\n",
       "      <th>first_name</th>\n",
       "      <th>...</th>\n",
       "      <th>age</th>\n",
       "      <th>merchant_suburb</th>\n",
       "      <th>merchant_state</th>\n",
       "      <th>extraction</th>\n",
       "      <th>amount</th>\n",
       "      <th>transaction_id</th>\n",
       "      <th>country</th>\n",
       "      <th>customer_id</th>\n",
       "      <th>merchant_long_lat</th>\n",
       "      <th>movement</th>\n",
       "    </tr>\n",
       "  </thead>\n",
       "  <tbody>\n",
       "    <tr>\n",
       "      <td>count</td>\n",
       "      <td>12043</td>\n",
       "      <td>7717.000000</td>\n",
       "      <td>885.0</td>\n",
       "      <td>12043</td>\n",
       "      <td>12043</td>\n",
       "      <td>12043</td>\n",
       "      <td>12043</td>\n",
       "      <td>7717</td>\n",
       "      <td>883.0</td>\n",
       "      <td>12043</td>\n",
       "      <td>...</td>\n",
       "      <td>12043.000000</td>\n",
       "      <td>7717</td>\n",
       "      <td>7717</td>\n",
       "      <td>12043</td>\n",
       "      <td>12043.000000</td>\n",
       "      <td>12043</td>\n",
       "      <td>12043</td>\n",
       "      <td>12043</td>\n",
       "      <td>7717</td>\n",
       "      <td>12043</td>\n",
       "    </tr>\n",
       "    <tr>\n",
       "      <td>unique</td>\n",
       "      <td>2</td>\n",
       "      <td>NaN</td>\n",
       "      <td>3.0</td>\n",
       "      <td>100</td>\n",
       "      <td>1</td>\n",
       "      <td>100</td>\n",
       "      <td>6</td>\n",
       "      <td>5725</td>\n",
       "      <td>NaN</td>\n",
       "      <td>80</td>\n",
       "      <td>...</td>\n",
       "      <td>NaN</td>\n",
       "      <td>1609</td>\n",
       "      <td>8</td>\n",
       "      <td>9442</td>\n",
       "      <td>NaN</td>\n",
       "      <td>12043</td>\n",
       "      <td>1</td>\n",
       "      <td>100</td>\n",
       "      <td>2703</td>\n",
       "      <td>2</td>\n",
       "    </tr>\n",
       "    <tr>\n",
       "      <td>top</td>\n",
       "      <td>authorized</td>\n",
       "      <td>NaN</td>\n",
       "      <td>0.0</td>\n",
       "      <td>ACC-1598451071</td>\n",
       "      <td>AUD</td>\n",
       "      <td>153.41 -27.95</td>\n",
       "      <td>SALES-POS</td>\n",
       "      <td>106e1272-44ab-4dcb-a438-dd98e0071e51</td>\n",
       "      <td>NaN</td>\n",
       "      <td>Michael</td>\n",
       "      <td>...</td>\n",
       "      <td>NaN</td>\n",
       "      <td>Melbourne</td>\n",
       "      <td>NSW</td>\n",
       "      <td>2018-09-03T11:00:00.000+0000</td>\n",
       "      <td>NaN</td>\n",
       "      <td>62493a3ccf694495b9688201d0df776e</td>\n",
       "      <td>Australia</td>\n",
       "      <td>CUS-2487424745</td>\n",
       "      <td>151.21 -33.87</td>\n",
       "      <td>debit</td>\n",
       "    </tr>\n",
       "    <tr>\n",
       "      <td>freq</td>\n",
       "      <td>7717</td>\n",
       "      <td>NaN</td>\n",
       "      <td>883.0</td>\n",
       "      <td>578</td>\n",
       "      <td>12043</td>\n",
       "      <td>578</td>\n",
       "      <td>3934</td>\n",
       "      <td>14</td>\n",
       "      <td>NaN</td>\n",
       "      <td>746</td>\n",
       "      <td>...</td>\n",
       "      <td>NaN</td>\n",
       "      <td>255</td>\n",
       "      <td>2169</td>\n",
       "      <td>10</td>\n",
       "      <td>NaN</td>\n",
       "      <td>1</td>\n",
       "      <td>12043</td>\n",
       "      <td>578</td>\n",
       "      <td>145</td>\n",
       "      <td>11160</td>\n",
       "    </tr>\n",
       "    <tr>\n",
       "      <td>first</td>\n",
       "      <td>NaN</td>\n",
       "      <td>NaN</td>\n",
       "      <td>NaN</td>\n",
       "      <td>NaN</td>\n",
       "      <td>NaN</td>\n",
       "      <td>NaN</td>\n",
       "      <td>NaN</td>\n",
       "      <td>NaN</td>\n",
       "      <td>NaN</td>\n",
       "      <td>NaN</td>\n",
       "      <td>...</td>\n",
       "      <td>NaN</td>\n",
       "      <td>NaN</td>\n",
       "      <td>NaN</td>\n",
       "      <td>NaN</td>\n",
       "      <td>NaN</td>\n",
       "      <td>NaN</td>\n",
       "      <td>NaN</td>\n",
       "      <td>NaN</td>\n",
       "      <td>NaN</td>\n",
       "      <td>NaN</td>\n",
       "    </tr>\n",
       "    <tr>\n",
       "      <td>last</td>\n",
       "      <td>NaN</td>\n",
       "      <td>NaN</td>\n",
       "      <td>NaN</td>\n",
       "      <td>NaN</td>\n",
       "      <td>NaN</td>\n",
       "      <td>NaN</td>\n",
       "      <td>NaN</td>\n",
       "      <td>NaN</td>\n",
       "      <td>NaN</td>\n",
       "      <td>NaN</td>\n",
       "      <td>...</td>\n",
       "      <td>NaN</td>\n",
       "      <td>NaN</td>\n",
       "      <td>NaN</td>\n",
       "      <td>NaN</td>\n",
       "      <td>NaN</td>\n",
       "      <td>NaN</td>\n",
       "      <td>NaN</td>\n",
       "      <td>NaN</td>\n",
       "      <td>NaN</td>\n",
       "      <td>NaN</td>\n",
       "    </tr>\n",
       "    <tr>\n",
       "      <td>mean</td>\n",
       "      <td>NaN</td>\n",
       "      <td>0.802644</td>\n",
       "      <td>NaN</td>\n",
       "      <td>NaN</td>\n",
       "      <td>NaN</td>\n",
       "      <td>NaN</td>\n",
       "      <td>NaN</td>\n",
       "      <td>NaN</td>\n",
       "      <td>0.0</td>\n",
       "      <td>NaN</td>\n",
       "      <td>...</td>\n",
       "      <td>30.582330</td>\n",
       "      <td>NaN</td>\n",
       "      <td>NaN</td>\n",
       "      <td>NaN</td>\n",
       "      <td>187.933588</td>\n",
       "      <td>NaN</td>\n",
       "      <td>NaN</td>\n",
       "      <td>NaN</td>\n",
       "      <td>NaN</td>\n",
       "      <td>NaN</td>\n",
       "    </tr>\n",
       "    <tr>\n",
       "      <td>std</td>\n",
       "      <td>NaN</td>\n",
       "      <td>0.398029</td>\n",
       "      <td>NaN</td>\n",
       "      <td>NaN</td>\n",
       "      <td>NaN</td>\n",
       "      <td>NaN</td>\n",
       "      <td>NaN</td>\n",
       "      <td>NaN</td>\n",
       "      <td>0.0</td>\n",
       "      <td>NaN</td>\n",
       "      <td>...</td>\n",
       "      <td>10.046343</td>\n",
       "      <td>NaN</td>\n",
       "      <td>NaN</td>\n",
       "      <td>NaN</td>\n",
       "      <td>592.599934</td>\n",
       "      <td>NaN</td>\n",
       "      <td>NaN</td>\n",
       "      <td>NaN</td>\n",
       "      <td>NaN</td>\n",
       "      <td>NaN</td>\n",
       "    </tr>\n",
       "    <tr>\n",
       "      <td>min</td>\n",
       "      <td>NaN</td>\n",
       "      <td>0.000000</td>\n",
       "      <td>NaN</td>\n",
       "      <td>NaN</td>\n",
       "      <td>NaN</td>\n",
       "      <td>NaN</td>\n",
       "      <td>NaN</td>\n",
       "      <td>NaN</td>\n",
       "      <td>0.0</td>\n",
       "      <td>NaN</td>\n",
       "      <td>...</td>\n",
       "      <td>18.000000</td>\n",
       "      <td>NaN</td>\n",
       "      <td>NaN</td>\n",
       "      <td>NaN</td>\n",
       "      <td>0.100000</td>\n",
       "      <td>NaN</td>\n",
       "      <td>NaN</td>\n",
       "      <td>NaN</td>\n",
       "      <td>NaN</td>\n",
       "      <td>NaN</td>\n",
       "    </tr>\n",
       "    <tr>\n",
       "      <td>25%</td>\n",
       "      <td>NaN</td>\n",
       "      <td>1.000000</td>\n",
       "      <td>NaN</td>\n",
       "      <td>NaN</td>\n",
       "      <td>NaN</td>\n",
       "      <td>NaN</td>\n",
       "      <td>NaN</td>\n",
       "      <td>NaN</td>\n",
       "      <td>0.0</td>\n",
       "      <td>NaN</td>\n",
       "      <td>...</td>\n",
       "      <td>22.000000</td>\n",
       "      <td>NaN</td>\n",
       "      <td>NaN</td>\n",
       "      <td>NaN</td>\n",
       "      <td>16.000000</td>\n",
       "      <td>NaN</td>\n",
       "      <td>NaN</td>\n",
       "      <td>NaN</td>\n",
       "      <td>NaN</td>\n",
       "      <td>NaN</td>\n",
       "    </tr>\n",
       "    <tr>\n",
       "      <td>50%</td>\n",
       "      <td>NaN</td>\n",
       "      <td>1.000000</td>\n",
       "      <td>NaN</td>\n",
       "      <td>NaN</td>\n",
       "      <td>NaN</td>\n",
       "      <td>NaN</td>\n",
       "      <td>NaN</td>\n",
       "      <td>NaN</td>\n",
       "      <td>0.0</td>\n",
       "      <td>NaN</td>\n",
       "      <td>...</td>\n",
       "      <td>28.000000</td>\n",
       "      <td>NaN</td>\n",
       "      <td>NaN</td>\n",
       "      <td>NaN</td>\n",
       "      <td>29.000000</td>\n",
       "      <td>NaN</td>\n",
       "      <td>NaN</td>\n",
       "      <td>NaN</td>\n",
       "      <td>NaN</td>\n",
       "      <td>NaN</td>\n",
       "    </tr>\n",
       "    <tr>\n",
       "      <td>75%</td>\n",
       "      <td>NaN</td>\n",
       "      <td>1.000000</td>\n",
       "      <td>NaN</td>\n",
       "      <td>NaN</td>\n",
       "      <td>NaN</td>\n",
       "      <td>NaN</td>\n",
       "      <td>NaN</td>\n",
       "      <td>NaN</td>\n",
       "      <td>0.0</td>\n",
       "      <td>NaN</td>\n",
       "      <td>...</td>\n",
       "      <td>38.000000</td>\n",
       "      <td>NaN</td>\n",
       "      <td>NaN</td>\n",
       "      <td>NaN</td>\n",
       "      <td>53.655000</td>\n",
       "      <td>NaN</td>\n",
       "      <td>NaN</td>\n",
       "      <td>NaN</td>\n",
       "      <td>NaN</td>\n",
       "      <td>NaN</td>\n",
       "    </tr>\n",
       "    <tr>\n",
       "      <td>max</td>\n",
       "      <td>NaN</td>\n",
       "      <td>1.000000</td>\n",
       "      <td>NaN</td>\n",
       "      <td>NaN</td>\n",
       "      <td>NaN</td>\n",
       "      <td>NaN</td>\n",
       "      <td>NaN</td>\n",
       "      <td>NaN</td>\n",
       "      <td>0.0</td>\n",
       "      <td>NaN</td>\n",
       "      <td>...</td>\n",
       "      <td>78.000000</td>\n",
       "      <td>NaN</td>\n",
       "      <td>NaN</td>\n",
       "      <td>NaN</td>\n",
       "      <td>8835.980000</td>\n",
       "      <td>NaN</td>\n",
       "      <td>NaN</td>\n",
       "      <td>NaN</td>\n",
       "      <td>NaN</td>\n",
       "      <td>NaN</td>\n",
       "    </tr>\n",
       "  </tbody>\n",
       "</table>\n",
       "<p>13 rows × 23 columns</p>\n",
       "</div>"
      ],
      "text/plain": [
       "            status  card_present_flag  bpay_biller_code         account  \\\n",
       "count        12043        7717.000000             885.0           12043   \n",
       "unique           2                NaN               3.0             100   \n",
       "top     authorized                NaN               0.0  ACC-1598451071   \n",
       "freq          7717                NaN             883.0             578   \n",
       "first          NaN                NaN               NaN             NaN   \n",
       "last           NaN                NaN               NaN             NaN   \n",
       "mean           NaN           0.802644               NaN             NaN   \n",
       "std            NaN           0.398029               NaN             NaN   \n",
       "min            NaN           0.000000               NaN             NaN   \n",
       "25%            NaN           1.000000               NaN             NaN   \n",
       "50%            NaN           1.000000               NaN             NaN   \n",
       "75%            NaN           1.000000               NaN             NaN   \n",
       "max            NaN           1.000000               NaN             NaN   \n",
       "\n",
       "       currency       long_lat txn_description  \\\n",
       "count     12043          12043           12043   \n",
       "unique        1            100               6   \n",
       "top         AUD  153.41 -27.95       SALES-POS   \n",
       "freq      12043            578            3934   \n",
       "first       NaN            NaN             NaN   \n",
       "last        NaN            NaN             NaN   \n",
       "mean        NaN            NaN             NaN   \n",
       "std         NaN            NaN             NaN   \n",
       "min         NaN            NaN             NaN   \n",
       "25%         NaN            NaN             NaN   \n",
       "50%         NaN            NaN             NaN   \n",
       "75%         NaN            NaN             NaN   \n",
       "max         NaN            NaN             NaN   \n",
       "\n",
       "                                 merchant_id  merchant_code first_name  ...  \\\n",
       "count                                   7717          883.0      12043  ...   \n",
       "unique                                  5725            NaN         80  ...   \n",
       "top     106e1272-44ab-4dcb-a438-dd98e0071e51            NaN    Michael  ...   \n",
       "freq                                      14            NaN        746  ...   \n",
       "first                                    NaN            NaN        NaN  ...   \n",
       "last                                     NaN            NaN        NaN  ...   \n",
       "mean                                     NaN            0.0        NaN  ...   \n",
       "std                                      NaN            0.0        NaN  ...   \n",
       "min                                      NaN            0.0        NaN  ...   \n",
       "25%                                      NaN            0.0        NaN  ...   \n",
       "50%                                      NaN            0.0        NaN  ...   \n",
       "75%                                      NaN            0.0        NaN  ...   \n",
       "max                                      NaN            0.0        NaN  ...   \n",
       "\n",
       "                 age merchant_suburb merchant_state  \\\n",
       "count   12043.000000            7717           7717   \n",
       "unique           NaN            1609              8   \n",
       "top              NaN       Melbourne            NSW   \n",
       "freq             NaN             255           2169   \n",
       "first            NaN             NaN            NaN   \n",
       "last             NaN             NaN            NaN   \n",
       "mean       30.582330             NaN            NaN   \n",
       "std        10.046343             NaN            NaN   \n",
       "min        18.000000             NaN            NaN   \n",
       "25%        22.000000             NaN            NaN   \n",
       "50%        28.000000             NaN            NaN   \n",
       "75%        38.000000             NaN            NaN   \n",
       "max        78.000000             NaN            NaN   \n",
       "\n",
       "                          extraction        amount  \\\n",
       "count                          12043  12043.000000   \n",
       "unique                          9442           NaN   \n",
       "top     2018-09-03T11:00:00.000+0000           NaN   \n",
       "freq                              10           NaN   \n",
       "first                            NaN           NaN   \n",
       "last                             NaN           NaN   \n",
       "mean                             NaN    187.933588   \n",
       "std                              NaN    592.599934   \n",
       "min                              NaN      0.100000   \n",
       "25%                              NaN     16.000000   \n",
       "50%                              NaN     29.000000   \n",
       "75%                              NaN     53.655000   \n",
       "max                              NaN   8835.980000   \n",
       "\n",
       "                          transaction_id    country     customer_id  \\\n",
       "count                              12043      12043           12043   \n",
       "unique                             12043          1             100   \n",
       "top     62493a3ccf694495b9688201d0df776e  Australia  CUS-2487424745   \n",
       "freq                                   1      12043             578   \n",
       "first                                NaN        NaN             NaN   \n",
       "last                                 NaN        NaN             NaN   \n",
       "mean                                 NaN        NaN             NaN   \n",
       "std                                  NaN        NaN             NaN   \n",
       "min                                  NaN        NaN             NaN   \n",
       "25%                                  NaN        NaN             NaN   \n",
       "50%                                  NaN        NaN             NaN   \n",
       "75%                                  NaN        NaN             NaN   \n",
       "max                                  NaN        NaN             NaN   \n",
       "\n",
       "       merchant_long_lat movement  \n",
       "count               7717    12043  \n",
       "unique              2703        2  \n",
       "top        151.21 -33.87    debit  \n",
       "freq                 145    11160  \n",
       "first                NaN      NaN  \n",
       "last                 NaN      NaN  \n",
       "mean                 NaN      NaN  \n",
       "std                  NaN      NaN  \n",
       "min                  NaN      NaN  \n",
       "25%                  NaN      NaN  \n",
       "50%                  NaN      NaN  \n",
       "75%                  NaN      NaN  \n",
       "max                  NaN      NaN  \n",
       "\n",
       "[13 rows x 23 columns]"
      ]
     },
     "execution_count": 6,
     "metadata": {},
     "output_type": "execute_result"
    }
   ],
   "source": [
    "data.describe(include='all')"
   ]
  },
  {
   "cell_type": "code",
   "execution_count": 7,
   "metadata": {
    "colab": {},
    "colab_type": "code",
    "id": "ZXVjw5lpFbAK",
    "outputId": "db21f3c3-b7ef-4f34-8fd8-0115fee55c55"
   },
   "outputs": [
    {
     "name": "stdout",
     "output_type": "stream",
     "text": [
      "<class 'pandas.core.frame.DataFrame'>\n",
      "RangeIndex: 12043 entries, 0 to 12042\n",
      "Data columns (total 23 columns):\n",
      "status               12043 non-null object\n",
      "card_present_flag    7717 non-null float64\n",
      "bpay_biller_code     885 non-null object\n",
      "account              12043 non-null object\n",
      "currency             12043 non-null object\n",
      "long_lat             12043 non-null object\n",
      "txn_description      12043 non-null object\n",
      "merchant_id          7717 non-null object\n",
      "merchant_code        883 non-null float64\n",
      "first_name           12043 non-null object\n",
      "balance              12043 non-null float64\n",
      "date                 12043 non-null datetime64[ns]\n",
      "gender               12043 non-null object\n",
      "age                  12043 non-null int64\n",
      "merchant_suburb      7717 non-null object\n",
      "merchant_state       7717 non-null object\n",
      "extraction           12043 non-null object\n",
      "amount               12043 non-null float64\n",
      "transaction_id       12043 non-null object\n",
      "country              12043 non-null object\n",
      "customer_id          12043 non-null object\n",
      "merchant_long_lat    7717 non-null object\n",
      "movement             12043 non-null object\n",
      "dtypes: datetime64[ns](1), float64(4), int64(1), object(17)\n",
      "memory usage: 2.1+ MB\n"
     ]
    }
   ],
   "source": [
    "data.info()"
   ]
  },
  {
   "cell_type": "code",
   "execution_count": 8,
   "metadata": {
    "colab": {},
    "colab_type": "code",
    "id": "YUSO0dKQFbAO",
    "outputId": "2ff7daa0-ed3b-4bba-927c-d24928e8b88f"
   },
   "outputs": [
    {
     "data": {
      "text/plain": [
       "Index(['status', 'card_present_flag', 'bpay_biller_code', 'account',\n",
       "       'currency', 'long_lat', 'txn_description', 'merchant_id',\n",
       "       'merchant_code', 'first_name', 'balance', 'date', 'gender', 'age',\n",
       "       'merchant_suburb', 'merchant_state', 'extraction', 'amount',\n",
       "       'transaction_id', 'country', 'customer_id', 'merchant_long_lat',\n",
       "       'movement'],\n",
       "      dtype='object')"
      ]
     },
     "execution_count": 8,
     "metadata": {},
     "output_type": "execute_result"
    }
   ],
   "source": [
    "data.columns"
   ]
  },
  {
   "cell_type": "code",
   "execution_count": 9,
   "metadata": {
    "colab": {},
    "colab_type": "code",
    "id": "2PiFfwsNFbAS"
   },
   "outputs": [],
   "source": [
    "Total=data.customer_id.nunique()\n",
    "male_acc=data[data['gender']=='M'].customer_id.nunique()\n",
    "female_acc=Total-male_acc"
   ]
  },
  {
   "cell_type": "code",
   "execution_count": 10,
   "metadata": {
    "colab": {},
    "colab_type": "code",
    "id": "X2ygqDfwFbAW",
    "outputId": "1f4953a8-8b4a-4cdb-b4b4-325a35ceefdf"
   },
   "outputs": [
    {
     "name": "stdout",
     "output_type": "stream",
     "text": [
      "NO of customer is : 100\n",
      "No. of Male account holders : 56\n",
      "No. of female account holders : 44\n"
     ]
    }
   ],
   "source": [
    "print('NO of customer is :',Total)\n",
    "print('No. of Male account holders :',male_acc)\n",
    "print('No. of female account holders :',female_acc)"
   ]
  },
  {
   "cell_type": "code",
   "execution_count": 11,
   "metadata": {},
   "outputs": [
    {
     "data": {
      "image/png": "[encoded data removed]",
      "text/plain": [
       "<Figure size 432x288 with 1 Axes>"
      ]
     },
     "metadata": {
      "needs_background": "light"
     },
     "output_type": "display_data"
    }
   ],
   "source": [
    "sns.distplot(data.age)\n",
    "plt.xlabel('Age',fontsize=15)\n",
    "plt.title('Age Distubution of account holders')\n",
    "plt.show()"
   ]
  },
  {
   "cell_type": "code",
   "execution_count": 12,
   "metadata": {
    "colab": {},
    "colab_type": "code",
    "id": "vLc_MbOEFbAZ",
    "outputId": "61ad4af1-b9a9-4e4a-f936-a79945f0b06b"
   },
   "outputs": [
    {
     "data": {
      "text/plain": [
       "status                   0\n",
       "card_present_flag     4326\n",
       "bpay_biller_code     11158\n",
       "account                  0\n",
       "currency                 0\n",
       "long_lat                 0\n",
       "txn_description          0\n",
       "merchant_id           4326\n",
       "merchant_code        11160\n",
       "first_name               0\n",
       "balance                  0\n",
       "date                     0\n",
       "gender                   0\n",
       "age                      0\n",
       "merchant_suburb       4326\n",
       "merchant_state        4326\n",
       "extraction               0\n",
       "amount                   0\n",
       "transaction_id           0\n",
       "country                  0\n",
       "customer_id              0\n",
       "merchant_long_lat     4326\n",
       "movement                 0\n",
       "dtype: int64"
      ]
     },
     "execution_count": 12,
     "metadata": {},
     "output_type": "execute_result"
    }
   ],
   "source": [
    "data.isnull().sum()"
   ]
  },
  {
   "cell_type": "code",
   "execution_count": null,
   "metadata": {
    "colab": {},
    "colab_type": "code",
    "id": "Cnbc8W-NFbAd"
   },
   "outputs": [],
   "source": []
  },
  {
   "cell_type": "markdown",
   "metadata": {
    "colab_type": "text",
    "id": "1YxBDe9xFbAg"
   },
   "source": [
    "## Data Cleansing"
   ]
  },
  {
   "cell_type": "code",
   "execution_count": 13,
   "metadata": {
    "colab": {},
    "colab_type": "code",
    "id": "qfyH_GSeFbAg",
    "outputId": "a48143d1-5884-4b93-9a08-d3ca6c88808e"
   },
   "outputs": [
    {
     "data": {
      "text/plain": [
       "<matplotlib.axes._subplots.AxesSubplot at 0x2f53b42adc8>"
      ]
     },
     "execution_count": 13,
     "metadata": {},
     "output_type": "execute_result"
    },
    {
     "data": {
      "image/png": "[encoded data removed]",
      "text/plain": [
       "<Figure size 432x288 with 1 Axes>"
      ]
     },
     "metadata": {
      "needs_background": "light"
     },
     "output_type": "display_data"
    }
   ],
   "source": [
    "plt.style.use('seaborn-deep')\n",
    "sns.heatmap(data.isnull(),cbar=False,yticklabels=False)"
   ]
  },
  {
   "cell_type": "markdown",
   "metadata": {
    "colab_type": "text",
    "id": "UypTwYgKFbAk"
   },
   "source": [
    " ### Removing coloumns which has less than 35% data"
   ]
  },
  {
   "cell_type": "code",
   "execution_count": 14,
   "metadata": {
    "colab": {},
    "colab_type": "code",
    "id": "2lMkc-ZnFbAk",
    "outputId": "1eafa2d6-12b0-4e0a-df4f-9dad28b45a88"
   },
   "outputs": [
    {
     "name": "stdout",
     "output_type": "stream",
     "text": [
      "List of excluded columns: \n",
      "bpay_biller_code\n",
      "merchant_code\n"
     ]
    }
   ],
   "source": [
    "bank_ANZ = data[[column for column in data if data[column].count()/len(data) > 0.30]]\n",
    "\n",
    "#Knowing which columns have be excluded \n",
    "print(\"List of excluded columns: \")\n",
    "for c in data.columns:\n",
    "    if c not in bank_ANZ.columns:\n",
    "        print(c)"
   ]
  },
  {
   "cell_type": "code",
   "execution_count": 15,
   "metadata": {
    "colab": {},
    "colab_type": "code",
    "id": "3knKLcCSFbAo"
   },
   "outputs": [],
   "source": [
    "# Droping other coloums which Doesn't reflect much of data\n",
    "bank_ANZ = bank_ANZ.drop(['currency','country'],axis=1)\n"
   ]
  },
  {
   "cell_type": "code",
   "execution_count": 16,
   "metadata": {
    "colab": {},
    "colab_type": "code",
    "id": "-p6hnWXTFbAr"
   },
   "outputs": [],
   "source": [
    "bank_ANZ = bank_ANZ.fillna(value='N.A')"
   ]
  },
  {
   "cell_type": "code",
   "execution_count": 17,
   "metadata": {
    "colab": {},
    "colab_type": "code",
    "id": "spHp2XQdFbAu",
    "outputId": "9d4d92f9-e68d-490f-dd34-ab33bb0f72fe"
   },
   "outputs": [
    {
     "data": {
      "text/plain": [
       "<matplotlib.axes._subplots.AxesSubplot at 0x2f53ae6a408>"
      ]
     },
     "execution_count": 17,
     "metadata": {},
     "output_type": "execute_result"
    },
    {
     "data": {
      "image/png": "[encoded data removed]",
      "text/plain": [
       "<Figure size 432x288 with 1 Axes>"
      ]
     },
     "metadata": {
      "needs_background": "light"
     },
     "output_type": "display_data"
    }
   ],
   "source": [
    "sns.heatmap(bank_ANZ.isnull(),cbar=False,cmap=\"viridis\",yticklabels=False)"
   ]
  },
  {
   "cell_type": "code",
   "execution_count": 18,
   "metadata": {
    "colab": {},
    "colab_type": "code",
    "id": "AKRWPxjCFbAx",
    "outputId": "f44abe68-2711-4009-bdde-b2ce67d958e2"
   },
   "outputs": [
    {
     "name": "stdout",
     "output_type": "stream",
     "text": [
      "<class 'pandas.core.frame.DataFrame'>\n",
      "RangeIndex: 12043 entries, 0 to 12042\n",
      "Data columns (total 19 columns):\n",
      "status               12043 non-null object\n",
      "card_present_flag    12043 non-null object\n",
      "account              12043 non-null object\n",
      "long_lat             12043 non-null object\n",
      "txn_description      12043 non-null object\n",
      "merchant_id          12043 non-null object\n",
      "first_name           12043 non-null object\n",
      "balance              12043 non-null float64\n",
      "date                 12043 non-null datetime64[ns]\n",
      "gender               12043 non-null object\n",
      "age                  12043 non-null int64\n",
      "merchant_suburb      12043 non-null object\n",
      "merchant_state       12043 non-null object\n",
      "extraction           12043 non-null object\n",
      "amount               12043 non-null float64\n",
      "transaction_id       12043 non-null object\n",
      "customer_id          12043 non-null object\n",
      "merchant_long_lat    12043 non-null object\n",
      "movement             12043 non-null object\n",
      "dtypes: datetime64[ns](1), float64(2), int64(1), object(15)\n",
      "memory usage: 1.7+ MB\n"
     ]
    }
   ],
   "source": [
    "bank_ANZ.info()"
   ]
  },
  {
   "cell_type": "code",
   "execution_count": 47,
   "metadata": {
    "colab": {},
    "colab_type": "code",
    "id": "GH5Zy3igFbA2"
   },
   "outputs": [],
   "source": [
    "bank_ANZ[\"date\"] = pd.to_datetime(bank_ANZ.date)\n",
    "\n",
    "bank_ANZ[\"Month\"] = bank_ANZ.date.dt.month_name()\n",
    "\n",
    "bank_ANZ[\"Weekday\"] = bank_ANZ.date.dt.day_name()\n",
    "bank_ANZ.to_csv('cleansed_data_from_Task1.csv')"
   ]
  },
  {
   "cell_type": "markdown",
   "metadata": {
    "colab_type": "text",
    "id": "7s0jYcTxFbA5"
   },
   "source": [
    "# Outliner Dectection"
   ]
  },
  {
   "cell_type": "code",
   "execution_count": 20,
   "metadata": {
    "colab": {},
    "colab_type": "code",
    "id": "lNvX8gzYFbA6",
    "outputId": "2a6f208e-3ee3-4d63-eca1-42031af12a5a"
   },
   "outputs": [
    {
     "data": {
      "image/png": "[encoded data removed]",
      "text/plain": [
       "<Figure size 720x360 with 1 Axes>"
      ]
     },
     "metadata": {
      "needs_background": "light"
     },
     "output_type": "display_data"
    }
   ],
   "source": [
    "plt.figure(figsize=(10,5))\n",
    "sns.boxplot(bank_ANZ.amount,orient='h')\n",
    "plt.show()"
   ]
  },
  {
   "cell_type": "code",
   "execution_count": 21,
   "metadata": {
    "colab": {},
    "colab_type": "code",
    "id": "ihYUQJHDFbA9",
    "outputId": "c3b80a66-c39c-4125-a95c-5faa38c037a9"
   },
   "outputs": [
    {
     "name": "stdout",
     "output_type": "stream",
     "text": [
      "[3903.95, 3903.73, 2647.38, 3071.14, 2218.73, 3195.01, 2023.68, 3785.78, 2840.15, 2282.36, 3328.77, 2544.76, 2572.91, 3578.65, 4405.3, 4216.04, 3231.26, 2588.01, 2280.36, 3026.95, 2538.68, 3977.46, 4132.23, 2013.08, 2443.24, 6024.49, 3517.61, 2485.37, 2306.63, 2639.76, 2101.51, 3676.94, 2887.34, 2320.3, 2687.85, 3649.51, 2308.67, 2470.45, 2179.96, 2544.76, 2886.52, 2588.01, 2280.36, 2854.74, 4054.77, 2443.24, 2718.51, 3903.95, 5103.51, 3903.73, 2647.38, 3071.14, 2023.68, 3785.78, 2500.0, 2500.0, 2840.15, 2282.36, 3328.77, 2544.76, 2572.91, 3578.65, 4405.3, 4216.04, 8835.98, 3231.26, 2588.01, 2280.36, 2538.68, 3977.46, 4132.23, 2443.24, 3517.61, 2485.37, 2306.63, 2639.76, 2101.51, 3676.94, 2887.34, 2320.3, 2687.85, 4910.9, 3712.56, 3649.51, 2308.67, 2470.45, 2179.96, 2544.76, 2886.52, 2588.01, 2280.36, 2854.74, 4054.77, 2443.24, 2718.51, 3903.95, 3903.73, 2647.38, 3071.14, 2218.73, 3195.01, 2023.68, 3785.78, 2840.15, 2282.36, 3328.77, 2544.76, 2572.91, 3578.65, 4405.3, 4216.04, 3231.26, 2588.01, 2280.36, 2538.68, 3977.46, 4132.23, 2443.24, 3517.61, 2349.55, 2485.37, 2306.63, 2639.76, 2101.51, 3676.94, 2887.34, 2320.3, 3026.95, 2687.85, 2885.85, 3649.51, 2308.67, 6024.49, 2470.45, 2179.96, 2544.76, 2886.52, 2588.01, 2280.36, 2854.74, 4054.77, 2443.24, 2718.51, 3903.95, 3903.73, 2647.38, 3071.14, 2218.73, 3195.01, 2023.68, 3785.78, 5103.51, 5103.51, 2840.15, 2282.36, 3328.77, 2544.76, 2572.91, 3578.65, 4405.3, 4216.04, 3231.26, 2588.01, 2280.36, 2538.68, 3977.46, 4132.23, 2443.24, 2500.0, 2500.0, 3517.61, 2485.37, 2306.63, 2639.76, 2101.51, 3676.94, 2887.34, 8835.98, 2320.3, 2687.85, 3649.51, 2308.67, 2470.45, 2179.96, 2544.76, 2886.52, 2588.01, 2280.36, 3712.56, 2854.74, 4054.77, 2443.24, 2718.51, 3903.95, 4863.62, 6107.23, 3903.73, 2647.38, 3071.14, 2218.73, 3195.01, 2023.68, 3785.78, 2840.15, 2282.36, 3328.77, 2544.76, 2572.91, 4233.0, 3578.65, 4405.3, 4216.04, 3231.26, 2588.01, 2280.36, 2538.68, 3977.46, 4132.23, 2443.24, 3517.61, 2485.37, 2306.63, 2639.76, 2101.51, 3676.94, 2887.34, 2320.3, 2687.85, 3649.51, 2308.67, 2470.45, 3026.95, 3026.95, 2179.96, 2544.76, 2886.52, 2588.01, 2280.36, 2854.74, 4054.77, 2443.24, 2718.51, 3903.95, 3903.73, 2647.38, 3071.14, 2218.73, 3195.01, 4094.33, 2023.68, 3785.78, 2840.15, 2282.36, 3328.77, 2544.76, 2572.91, 1981.0, 3578.65, 4405.3, 4216.04, 3231.26, 2588.01, 2280.36, 5103.51, 5103.51, 2538.68, 3977.46, 4132.23, 2443.24, 3517.61, 2485.37, 2306.63, 2639.76, 2101.51, 3676.94, 2887.34, 2320.3, 2500.0, 2500.0, 2687.85, 8835.98, 8835.98, 3649.51, 2308.67, 2470.45, 2179.96, 2544.76, 7081.09, 2886.52, 2588.01, 3680.71, 2280.36, 2854.74, 4054.77, 2443.24, 2718.51, 4910.9, 3903.95, 3712.56, 3903.73, 2647.38, 3071.14, 2218.73, 3195.01, 2023.68, 3785.78, 4863.62, 6107.23, 2840.15, 2282.36, 3328.77, 2544.76, 2572.91, 3578.65, 4405.3, 4216.04, 3231.26, 2588.01, 2280.36, 2538.68, 3977.46, 4132.23, 2443.24, 3517.61, 2485.37, 2306.63, 2639.76]\n"
     ]
    }
   ],
   "source": [
    "#Using Z-sore mrthod\n",
    "outliers=[]\n",
    "def detect_outliers(data):\n",
    "    \n",
    "    threshold=3\n",
    "    mean = np.mean(data)\n",
    "    std =np.std(data)\n",
    "    \n",
    "    \n",
    "    for i in data:\n",
    "        z_score= (i - mean)/std \n",
    "        if np.abs(z_score) > threshold:\n",
    "            outliers.append(i)\n",
    "    return outliers\n",
    "\n",
    "print(detect_outliers(bank_ANZ.amount))"
   ]
  },
  {
   "cell_type": "markdown",
   "metadata": {
    "colab_type": "text",
    "id": "cnchnx_AFbBA"
   },
   "source": [
    "## EDA"
   ]
  },
  {
   "cell_type": "markdown",
   "metadata": {
    "colab_type": "text",
    "id": "_-82HEHvFbBB"
   },
   "source": [
    "## OverView of Transactions"
   ]
  },
  {
   "cell_type": "code",
   "execution_count": 22,
   "metadata": {
    "colab": {},
    "colab_type": "code",
    "id": "SZIQKX_pFbBB",
    "outputId": "162ce97e-fa25-442a-9477-1525e837de55"
   },
   "outputs": [
    {
     "name": "stdout",
     "output_type": "stream",
     "text": [
      "Method of Transactions \n",
      " debit     11160\n",
      "credit      883\n",
      "Name: movement, dtype: int64\n"
     ]
    },
    {
     "data": {
      "image/png": "[encoded data removed]",
      "text/plain": [
       "<Figure size 432x288 with 1 Axes>"
      ]
     },
     "metadata": {
      "needs_background": "light"
     },
     "output_type": "display_data"
    }
   ],
   "source": [
    "# Count of the methods of transactions\n",
    "\n",
    "print('Method of Transactions \\n',bank_ANZ.movement.value_counts())\n",
    "sns.boxplot(x=\"movement\",y=\"amount\",data=bank_ANZ)\n",
    "plt.show()"
   ]
  },
  {
   "cell_type": "markdown",
   "metadata": {
    "colab_type": "text",
    "id": "eFyDg4feFbBE"
   },
   "source": [
    " ### There isn't much Credit trans, From this we can say large amount of money is credited into the account and this money is spent in small amounts"
   ]
  },
  {
   "cell_type": "code",
   "execution_count": 23,
   "metadata": {
    "colab": {},
    "colab_type": "code",
    "id": "g1B9A3ZVFbBF",
    "outputId": "66029220-6555-40f7-8045-08636129d2e7"
   },
   "outputs": [
    {
     "name": "stdout",
     "output_type": "stream",
     "text": [
      "Diffrent types of Transactions happening:\n",
      "\n"
     ]
    },
    {
     "data": {
      "text/html": [
       "<div>\n",
       "<style scoped>\n",
       "    .dataframe tbody tr th:only-of-type {\n",
       "        vertical-align: middle;\n",
       "    }\n",
       "\n",
       "    .dataframe tbody tr th {\n",
       "        vertical-align: top;\n",
       "    }\n",
       "\n",
       "    .dataframe thead th {\n",
       "        text-align: right;\n",
       "    }\n",
       "</style>\n",
       "<table border=\"1\" class=\"dataframe\">\n",
       "  <thead>\n",
       "    <tr style=\"text-align: right;\">\n",
       "      <th></th>\n",
       "      <th>count</th>\n",
       "      <th>mean</th>\n",
       "      <th>std</th>\n",
       "      <th>min</th>\n",
       "      <th>25%</th>\n",
       "      <th>50%</th>\n",
       "      <th>75%</th>\n",
       "      <th>max</th>\n",
       "    </tr>\n",
       "    <tr>\n",
       "      <th>txn_description</th>\n",
       "      <th></th>\n",
       "      <th></th>\n",
       "      <th></th>\n",
       "      <th></th>\n",
       "      <th></th>\n",
       "      <th></th>\n",
       "      <th></th>\n",
       "      <th></th>\n",
       "    </tr>\n",
       "  </thead>\n",
       "  <tbody>\n",
       "    <tr>\n",
       "      <td>INTER BANK</td>\n",
       "      <td>742.0</td>\n",
       "      <td>86.699461</td>\n",
       "      <td>198.706044</td>\n",
       "      <td>16.0</td>\n",
       "      <td>26.000</td>\n",
       "      <td>39.000</td>\n",
       "      <td>83.000</td>\n",
       "      <td>1956.00</td>\n",
       "    </tr>\n",
       "    <tr>\n",
       "      <td>PAY/SALARY</td>\n",
       "      <td>883.0</td>\n",
       "      <td>1898.728029</td>\n",
       "      <td>1150.364621</td>\n",
       "      <td>576.0</td>\n",
       "      <td>1013.670</td>\n",
       "      <td>1626.480</td>\n",
       "      <td>2538.680</td>\n",
       "      <td>8835.98</td>\n",
       "    </tr>\n",
       "    <tr>\n",
       "      <td>PAYMENT</td>\n",
       "      <td>2600.0</td>\n",
       "      <td>77.613077</td>\n",
       "      <td>152.310315</td>\n",
       "      <td>15.0</td>\n",
       "      <td>32.000</td>\n",
       "      <td>42.500</td>\n",
       "      <td>70.000</td>\n",
       "      <td>1981.00</td>\n",
       "    </tr>\n",
       "    <tr>\n",
       "      <td>PHONE BANK</td>\n",
       "      <td>101.0</td>\n",
       "      <td>106.099010</td>\n",
       "      <td>245.999695</td>\n",
       "      <td>21.0</td>\n",
       "      <td>36.000</td>\n",
       "      <td>43.000</td>\n",
       "      <td>67.000</td>\n",
       "      <td>1916.00</td>\n",
       "    </tr>\n",
       "    <tr>\n",
       "      <td>POS</td>\n",
       "      <td>3783.0</td>\n",
       "      <td>40.407412</td>\n",
       "      <td>165.771678</td>\n",
       "      <td>0.1</td>\n",
       "      <td>12.035</td>\n",
       "      <td>19.430</td>\n",
       "      <td>33.155</td>\n",
       "      <td>7081.09</td>\n",
       "    </tr>\n",
       "    <tr>\n",
       "      <td>SALES-POS</td>\n",
       "      <td>3934.0</td>\n",
       "      <td>39.909789</td>\n",
       "      <td>132.734185</td>\n",
       "      <td>0.1</td>\n",
       "      <td>12.160</td>\n",
       "      <td>20.035</td>\n",
       "      <td>34.575</td>\n",
       "      <td>4233.00</td>\n",
       "    </tr>\n",
       "  </tbody>\n",
       "</table>\n",
       "</div>"
      ],
      "text/plain": [
       "                  count         mean          std    min       25%       50%  \\\n",
       "txn_description                                                                \n",
       "INTER BANK        742.0    86.699461   198.706044   16.0    26.000    39.000   \n",
       "PAY/SALARY        883.0  1898.728029  1150.364621  576.0  1013.670  1626.480   \n",
       "PAYMENT          2600.0    77.613077   152.310315   15.0    32.000    42.500   \n",
       "PHONE BANK        101.0   106.099010   245.999695   21.0    36.000    43.000   \n",
       "POS              3783.0    40.407412   165.771678    0.1    12.035    19.430   \n",
       "SALES-POS        3934.0    39.909789   132.734185    0.1    12.160    20.035   \n",
       "\n",
       "                      75%      max  \n",
       "txn_description                     \n",
       "INTER BANK         83.000  1956.00  \n",
       "PAY/SALARY       2538.680  8835.98  \n",
       "PAYMENT            70.000  1981.00  \n",
       "PHONE BANK         67.000  1916.00  \n",
       "POS                33.155  7081.09  \n",
       "SALES-POS          34.575  4233.00  "
      ]
     },
     "execution_count": 23,
     "metadata": {},
     "output_type": "execute_result"
    }
   ],
   "source": [
    "# Types of Transactoins and overview\n",
    "print('Diffrent types of Transactions happening:\\n')\n",
    "bank_ANZ.groupby('txn_description').amount.describe()"
   ]
  },
  {
   "cell_type": "code",
   "execution_count": 24,
   "metadata": {
    "colab": {},
    "colab_type": "code",
    "id": "yvr8fttMFbBL",
    "outputId": "e63bb88f-8b9a-402b-c44f-1b857eff56dc"
   },
   "outputs": [
    {
     "data": {
      "image/png": "[encoded data removed]",
      "text/plain": [
       "<Figure size 720x720 with 1 Axes>"
      ]
     },
     "metadata": {},
     "output_type": "display_data"
    }
   ],
   "source": [
    "\n",
    "\n",
    "plt.figure(figsize=(10,10))\n",
    "plt.pie(bank_ANZ.txn_description.value_counts(),labels=bank_ANZ.txn_description.unique(),autopct= '%0.2f')\n",
    "plt.title('Types of Transactions',fontsize=25)\n",
    "plt.show()"
   ]
  },
  {
   "cell_type": "markdown",
   "metadata": {
    "colab_type": "text",
    "id": "4_3458tCFbBO"
   },
   "source": [
    "### We can see that majority of the transaction as taking place through Purchaes/ Shoppings they make upto 65% of the transactions,And there isn't much of Phone Banking, Coustmer Should be more encrouged to use digital means"
   ]
  },
  {
   "cell_type": "markdown",
   "metadata": {
    "colab_type": "text",
    "id": "bY8XHCspFbBP"
   },
   "source": [
    "## Salary Transactions"
   ]
  },
  {
   "cell_type": "code",
   "execution_count": 25,
   "metadata": {
    "colab": {},
    "colab_type": "code",
    "id": "pkAKo8MBFbBP",
    "outputId": "86a8dcae-3e41-4293-fe67-d077bc2be138"
   },
   "outputs": [
    {
     "name": "stdout",
     "output_type": "stream",
     "text": [
      "Num of salary trans: 883\n"
     ]
    }
   ],
   "source": [
    "salary_trans = bank_ANZ[bank_ANZ['txn_description']=='PAY/SALARY']\n",
    "print('Num of salary trans:',salary_trans.customer_id.count())"
   ]
  },
  {
   "cell_type": "markdown",
   "metadata": {
    "colab_type": "text",
    "id": "JxhMA_qvFbBV"
   },
   "source": [
    "### No. of Salary Transactions are equal to No. of criedt Transactions.\n",
    "#### Hence all the money coming in only through Salary , Which isn't much of good sign there should more flow of money in accounts throungh varies methods"
   ]
  },
  {
   "cell_type": "code",
   "execution_count": 26,
   "metadata": {
    "colab": {},
    "colab_type": "code",
    "id": "CSKm-HcuFbBW"
   },
   "outputs": [],
   "source": [
    "#Male and Female Salary \n",
    "male_salary=salary_trans[salary_trans['gender']=='M']\n",
    "female_salary=salary_trans[salary_trans['gender']=='F']\n"
   ]
  },
  {
   "cell_type": "code",
   "execution_count": 27,
   "metadata": {
    "colab": {},
    "colab_type": "code",
    "id": "bqNS10WNFbBb",
    "outputId": "54b23eb7-50d2-4ef8-89ce-6db3f4d55b5d"
   },
   "outputs": [
    {
     "name": "stdout",
     "output_type": "stream",
     "text": [
      "Average salary is : 1898.72\n",
      "Average male salary is: 2096.811681034481\n",
      "Average female salary is: 1679.3704773269665\n"
     ]
    }
   ],
   "source": [
    "print(\"Average salary is :\",1898.72)\n",
    "print('Average male salary is:',male_salary.amount.mean())\n",
    "print('Average female salary is:',female_salary.amount.mean())\n"
   ]
  },
  {
   "cell_type": "markdown",
   "metadata": {
    "colab_type": "text",
    "id": "ja9VUhoXFbBf"
   },
   "source": [
    "### Categorizing the transactions"
   ]
  },
  {
   "cell_type": "code",
   "execution_count": 28,
   "metadata": {
    "colab": {},
    "colab_type": "code",
    "id": "OLq7B5RMFbBg",
    "outputId": "1a744997-105c-43ff-b2d0-fd5c18355759"
   },
   "outputs": [
    {
     "data": {
      "text/plain": [
       "authorized    7717\n",
       "posted        4326\n",
       "Name: status, dtype: int64"
      ]
     },
     "execution_count": 28,
     "metadata": {},
     "output_type": "execute_result"
    }
   ],
   "source": [
    "bank_ANZ.status.value_counts()"
   ]
  },
  {
   "cell_type": "code",
   "execution_count": 29,
   "metadata": {
    "colab": {},
    "colab_type": "code",
    "id": "xwPdnB7BFbBl"
   },
   "outputs": [],
   "source": [
    "Authorized_Data = bank_ANZ[bank_ANZ[\"status\"] == \"authorized\"]\n",
    "Posted_Data = bank_ANZ[bank_ANZ[\"status\"] == \"posted\"]"
   ]
  },
  {
   "cell_type": "code",
   "execution_count": 30,
   "metadata": {
    "colab": {},
    "colab_type": "code",
    "id": "u7l7OSCXFbBp",
    "outputId": "354b93be-e48a-457d-da40-8ec8162247ef"
   },
   "outputs": [
    {
     "data": {
      "text/plain": [
       "((7717, 21), (4326, 21))"
      ]
     },
     "execution_count": 30,
     "metadata": {},
     "output_type": "execute_result"
    }
   ],
   "source": [
    "Authorized_Data.shape,Posted_Data.shape"
   ]
  },
  {
   "cell_type": "markdown",
   "metadata": {
    "colab_type": "text",
    "id": "ZjpvQVPgFbBw"
   },
   "source": [
    "### Most transactoions are through  offline purschase/shopping"
   ]
  },
  {
   "cell_type": "code",
   "execution_count": null,
   "metadata": {
    "colab": {},
    "colab_type": "code",
    "id": "Ss-VhReJFbB1"
   },
   "outputs": [],
   "source": []
  },
  {
   "cell_type": "markdown",
   "metadata": {
    "colab_type": "text",
    "id": "CAHCvqmLFbB5"
   },
   "source": [
    "## Customer and Transactions"
   ]
  },
  {
   "cell_type": "code",
   "execution_count": null,
   "metadata": {
    "colab": {},
    "colab_type": "code",
    "id": "KuuV5lv2FbB6"
   },
   "outputs": [],
   "source": [
    "\n"
   ]
  },
  {
   "cell_type": "code",
   "execution_count": 32,
   "metadata": {
    "colab": {},
    "colab_type": "code",
    "id": "xzdZsGVbFbB-"
   },
   "outputs": [],
   "source": [
    "cust_long=[]\n",
    "cust_lat=[]\n",
    "mer_long=[]\n",
    "mer_lat=[]\n"
   ]
  },
  {
   "cell_type": "code",
   "execution_count": 33,
   "metadata": {
    "colab": {},
    "colab_type": "code",
    "id": "1rhukaSeFbCD"
   },
   "outputs": [],
   "source": [
    "for val in Authorized_Data[\"long_lat\"]:\n",
    "    cust_long.append(float(val.split()[0]))\n",
    "    cust_lat.append(float(val.split()[1]))\n",
    "    \n",
    "for val in Authorized_Data[\"merchant_long_lat\"]:\n",
    "    mer_long.append(float(val.split()[0]))\n",
    "    mer_lat.append(float(val.split()[1]))"
   ]
  },
  {
   "cell_type": "code",
   "execution_count": 34,
   "metadata": {
    "colab": {},
    "colab_type": "code",
    "id": "h4ewZ7i4FbCJ"
   },
   "outputs": [],
   "source": [
    "Authorized_Data.insert(4,\"Cust_long\",cust_long,True)\n",
    "Authorized_Data.insert(5,\"Cust_lat\",cust_lat,True)\n",
    "Authorized_Data.insert(6,\"Merchant_long\",mer_long,True)\n",
    "Authorized_Data.insert(7,\"Merchant_lat\",mer_lat,True)"
   ]
  },
  {
   "cell_type": "code",
   "execution_count": 35,
   "metadata": {
    "colab": {},
    "colab_type": "code",
    "id": "DTifA6FCFbCN",
    "outputId": "c7d5b295-27e2-4fd9-b153-adb22b84a7fb"
   },
   "outputs": [
    {
     "name": "stdout",
     "output_type": "stream",
     "text": [
      "<class 'pandas.core.frame.DataFrame'>\n",
      "Int64Index: 7717 entries, 0 to 12042\n",
      "Data columns (total 25 columns):\n",
      "status               7717 non-null object\n",
      "card_present_flag    7717 non-null object\n",
      "account              7717 non-null object\n",
      "long_lat             7717 non-null object\n",
      "Cust_long            7717 non-null float64\n",
      "Cust_lat             7717 non-null float64\n",
      "Merchant_long        7717 non-null float64\n",
      "Merchant_lat         7717 non-null float64\n",
      "txn_description      7717 non-null object\n",
      "merchant_id          7717 non-null object\n",
      "first_name           7717 non-null object\n",
      "balance              7717 non-null float64\n",
      "date                 7717 non-null datetime64[ns]\n",
      "gender               7717 non-null object\n",
      "age                  7717 non-null int64\n",
      "merchant_suburb      7717 non-null object\n",
      "merchant_state       7717 non-null object\n",
      "extraction           7717 non-null object\n",
      "amount               7717 non-null float64\n",
      "transaction_id       7717 non-null object\n",
      "customer_id          7717 non-null object\n",
      "merchant_long_lat    7717 non-null object\n",
      "movement             7717 non-null object\n",
      "Month                7717 non-null object\n",
      "Weekday              7717 non-null object\n",
      "dtypes: datetime64[ns](1), float64(6), int64(1), object(17)\n",
      "memory usage: 1.5+ MB\n"
     ]
    }
   ],
   "source": [
    "Authorized_Data.info()"
   ]
  },
  {
   "cell_type": "code",
   "execution_count": 36,
   "metadata": {
    "colab": {},
    "colab_type": "code",
    "id": "va1khfmjFbCR"
   },
   "outputs": [
    {
     "name": "stderr",
     "output_type": "stream",
     "text": [
      "C:\\Users\\abhil\\Anaconda3\\lib\\site-packages\\pandas\\core\\frame.py:3494: SettingWithCopyWarning: \n",
      "A value is trying to be set on a copy of a slice from a DataFrame.\n",
      "Try using .loc[row_indexer,col_indexer] = value instead\n",
      "\n",
      "See the caveats in the documentation: http://pandas.pydata.org/pandas-docs/stable/user_guide/indexing.html#returning-a-view-versus-a-copy\n",
      "  self[k1] = value[k2]\n"
     ]
    },
    {
     "data": {
      "text/html": [
       "<div>\n",
       "<style scoped>\n",
       "    .dataframe tbody tr th:only-of-type {\n",
       "        vertical-align: middle;\n",
       "    }\n",
       "\n",
       "    .dataframe tbody tr th {\n",
       "        vertical-align: top;\n",
       "    }\n",
       "\n",
       "    .dataframe thead th {\n",
       "        text-align: right;\n",
       "    }\n",
       "</style>\n",
       "<table border=\"1\" class=\"dataframe\">\n",
       "  <thead>\n",
       "    <tr style=\"text-align: right;\">\n",
       "      <th></th>\n",
       "      <th>status</th>\n",
       "      <th>card_present_flag</th>\n",
       "      <th>customer_id</th>\n",
       "      <th>first_name</th>\n",
       "      <th>gender</th>\n",
       "      <th>amount</th>\n",
       "      <th>txn_description</th>\n",
       "      <th>movement</th>\n",
       "      <th>date</th>\n",
       "      <th>Month</th>\n",
       "      <th>Weekday</th>\n",
       "      <th>Cust_long</th>\n",
       "      <th>Cust_lat</th>\n",
       "    </tr>\n",
       "  </thead>\n",
       "  <tbody>\n",
       "    <tr>\n",
       "      <td>0</td>\n",
       "      <td>authorized</td>\n",
       "      <td>1</td>\n",
       "      <td>CUS-2487424745</td>\n",
       "      <td>Diana</td>\n",
       "      <td>F</td>\n",
       "      <td>16.25</td>\n",
       "      <td>POS</td>\n",
       "      <td>debit</td>\n",
       "      <td>2018-08-01</td>\n",
       "      <td>August</td>\n",
       "      <td>Wednesday</td>\n",
       "      <td>153.41</td>\n",
       "      <td>-27.95</td>\n",
       "    </tr>\n",
       "    <tr>\n",
       "      <td>1</td>\n",
       "      <td>authorized</td>\n",
       "      <td>0</td>\n",
       "      <td>CUS-2487424745</td>\n",
       "      <td>Diana</td>\n",
       "      <td>F</td>\n",
       "      <td>14.19</td>\n",
       "      <td>SALES-POS</td>\n",
       "      <td>debit</td>\n",
       "      <td>2018-08-01</td>\n",
       "      <td>August</td>\n",
       "      <td>Wednesday</td>\n",
       "      <td>153.41</td>\n",
       "      <td>-27.95</td>\n",
       "    </tr>\n",
       "    <tr>\n",
       "      <td>2</td>\n",
       "      <td>authorized</td>\n",
       "      <td>1</td>\n",
       "      <td>CUS-2142601169</td>\n",
       "      <td>Michael</td>\n",
       "      <td>M</td>\n",
       "      <td>6.42</td>\n",
       "      <td>POS</td>\n",
       "      <td>debit</td>\n",
       "      <td>2018-08-01</td>\n",
       "      <td>August</td>\n",
       "      <td>Wednesday</td>\n",
       "      <td>151.23</td>\n",
       "      <td>-33.94</td>\n",
       "    </tr>\n",
       "    <tr>\n",
       "      <td>3</td>\n",
       "      <td>authorized</td>\n",
       "      <td>1</td>\n",
       "      <td>CUS-1614226872</td>\n",
       "      <td>Rhonda</td>\n",
       "      <td>F</td>\n",
       "      <td>40.90</td>\n",
       "      <td>SALES-POS</td>\n",
       "      <td>debit</td>\n",
       "      <td>2018-08-01</td>\n",
       "      <td>August</td>\n",
       "      <td>Wednesday</td>\n",
       "      <td>153.10</td>\n",
       "      <td>-27.66</td>\n",
       "    </tr>\n",
       "    <tr>\n",
       "      <td>4</td>\n",
       "      <td>authorized</td>\n",
       "      <td>1</td>\n",
       "      <td>CUS-2487424745</td>\n",
       "      <td>Diana</td>\n",
       "      <td>F</td>\n",
       "      <td>3.25</td>\n",
       "      <td>SALES-POS</td>\n",
       "      <td>debit</td>\n",
       "      <td>2018-08-01</td>\n",
       "      <td>August</td>\n",
       "      <td>Wednesday</td>\n",
       "      <td>153.41</td>\n",
       "      <td>-27.95</td>\n",
       "    </tr>\n",
       "    <tr>\n",
       "      <td>...</td>\n",
       "      <td>...</td>\n",
       "      <td>...</td>\n",
       "      <td>...</td>\n",
       "      <td>...</td>\n",
       "      <td>...</td>\n",
       "      <td>...</td>\n",
       "      <td>...</td>\n",
       "      <td>...</td>\n",
       "      <td>...</td>\n",
       "      <td>...</td>\n",
       "      <td>...</td>\n",
       "      <td>...</td>\n",
       "      <td>...</td>\n",
       "    </tr>\n",
       "    <tr>\n",
       "      <td>12038</td>\n",
       "      <td>authorized</td>\n",
       "      <td>0</td>\n",
       "      <td>CUS-55310383</td>\n",
       "      <td>Melissa</td>\n",
       "      <td>F</td>\n",
       "      <td>9.79</td>\n",
       "      <td>POS</td>\n",
       "      <td>debit</td>\n",
       "      <td>2018-10-31</td>\n",
       "      <td>October</td>\n",
       "      <td>Wednesday</td>\n",
       "      <td>149.83</td>\n",
       "      <td>-29.47</td>\n",
       "    </tr>\n",
       "    <tr>\n",
       "      <td>12039</td>\n",
       "      <td>authorized</td>\n",
       "      <td>1</td>\n",
       "      <td>CUS-2688605418</td>\n",
       "      <td>Robert</td>\n",
       "      <td>M</td>\n",
       "      <td>63.87</td>\n",
       "      <td>SALES-POS</td>\n",
       "      <td>debit</td>\n",
       "      <td>2018-10-31</td>\n",
       "      <td>October</td>\n",
       "      <td>Wednesday</td>\n",
       "      <td>151.22</td>\n",
       "      <td>-33.87</td>\n",
       "    </tr>\n",
       "    <tr>\n",
       "      <td>12040</td>\n",
       "      <td>authorized</td>\n",
       "      <td>1</td>\n",
       "      <td>CUS-2663907001</td>\n",
       "      <td>Craig</td>\n",
       "      <td>M</td>\n",
       "      <td>43.96</td>\n",
       "      <td>POS</td>\n",
       "      <td>debit</td>\n",
       "      <td>2018-10-31</td>\n",
       "      <td>October</td>\n",
       "      <td>Wednesday</td>\n",
       "      <td>151.12</td>\n",
       "      <td>-33.89</td>\n",
       "    </tr>\n",
       "    <tr>\n",
       "      <td>12041</td>\n",
       "      <td>authorized</td>\n",
       "      <td>1</td>\n",
       "      <td>CUS-1388323263</td>\n",
       "      <td>Tyler</td>\n",
       "      <td>M</td>\n",
       "      <td>30.77</td>\n",
       "      <td>SALES-POS</td>\n",
       "      <td>debit</td>\n",
       "      <td>2018-10-31</td>\n",
       "      <td>October</td>\n",
       "      <td>Wednesday</td>\n",
       "      <td>144.96</td>\n",
       "      <td>-37.76</td>\n",
       "    </tr>\n",
       "    <tr>\n",
       "      <td>12042</td>\n",
       "      <td>authorized</td>\n",
       "      <td>1</td>\n",
       "      <td>CUS-3129499595</td>\n",
       "      <td>Ryan</td>\n",
       "      <td>M</td>\n",
       "      <td>22.36</td>\n",
       "      <td>SALES-POS</td>\n",
       "      <td>debit</td>\n",
       "      <td>2018-10-31</td>\n",
       "      <td>October</td>\n",
       "      <td>Wednesday</td>\n",
       "      <td>150.92</td>\n",
       "      <td>-33.77</td>\n",
       "    </tr>\n",
       "  </tbody>\n",
       "</table>\n",
       "<p>7717 rows × 13 columns</p>\n",
       "</div>"
      ],
      "text/plain": [
       "           status card_present_flag     customer_id first_name gender  amount  \\\n",
       "0      authorized                 1  CUS-2487424745      Diana      F   16.25   \n",
       "1      authorized                 0  CUS-2487424745      Diana      F   14.19   \n",
       "2      authorized                 1  CUS-2142601169    Michael      M    6.42   \n",
       "3      authorized                 1  CUS-1614226872     Rhonda      F   40.90   \n",
       "4      authorized                 1  CUS-2487424745      Diana      F    3.25   \n",
       "...           ...               ...             ...        ...    ...     ...   \n",
       "12038  authorized                 0    CUS-55310383    Melissa      F    9.79   \n",
       "12039  authorized                 1  CUS-2688605418     Robert      M   63.87   \n",
       "12040  authorized                 1  CUS-2663907001      Craig      M   43.96   \n",
       "12041  authorized                 1  CUS-1388323263      Tyler      M   30.77   \n",
       "12042  authorized                 1  CUS-3129499595       Ryan      M   22.36   \n",
       "\n",
       "      txn_description movement       date    Month    Weekday  Cust_long  \\\n",
       "0                 POS    debit 2018-08-01   August  Wednesday     153.41   \n",
       "1           SALES-POS    debit 2018-08-01   August  Wednesday     153.41   \n",
       "2                 POS    debit 2018-08-01   August  Wednesday     151.23   \n",
       "3           SALES-POS    debit 2018-08-01   August  Wednesday     153.10   \n",
       "4           SALES-POS    debit 2018-08-01   August  Wednesday     153.41   \n",
       "...               ...      ...        ...      ...        ...        ...   \n",
       "12038             POS    debit 2018-10-31  October  Wednesday     149.83   \n",
       "12039       SALES-POS    debit 2018-10-31  October  Wednesday     151.22   \n",
       "12040             POS    debit 2018-10-31  October  Wednesday     151.12   \n",
       "12041       SALES-POS    debit 2018-10-31  October  Wednesday     144.96   \n",
       "12042       SALES-POS    debit 2018-10-31  October  Wednesday     150.92   \n",
       "\n",
       "       Cust_lat  \n",
       "0        -27.95  \n",
       "1        -27.95  \n",
       "2        -33.94  \n",
       "3        -27.66  \n",
       "4        -27.95  \n",
       "...         ...  \n",
       "12038    -29.47  \n",
       "12039    -33.87  \n",
       "12040    -33.89  \n",
       "12041    -37.76  \n",
       "12042    -33.77  \n",
       "\n",
       "[7717 rows x 13 columns]"
      ]
     },
     "execution_count": 36,
     "metadata": {},
     "output_type": "execute_result"
    }
   ],
   "source": [
    "customer=Authorized_Data[['status','card_present_flag','customer_id','first_name','gender','amount','txn_description','movement','date','Month','Weekday','Cust_long','Cust_lat']]\n",
    "merchant=bank_ANZ[['merchant_id','txn_description','merchant_suburb','merchant_state','date','amount','gender']]\n",
    "merchant[['Merchant_long','Merchant_lat']]=Authorized_Data[['Merchant_long','Merchant_lat']]\n",
    "customer"
   ]
  },
  {
   "cell_type": "code",
   "execution_count": 37,
   "metadata": {
    "colab": {},
    "colab_type": "code",
    "id": "zVWJNh95FbCV",
    "outputId": "fface506-c8dc-46d9-c02c-7c3085f1472d"
   },
   "outputs": [],
   "source": [
    "cust_grouped=customer.groupby(['customer_id','first_name'])"
   ]
  },
  {
   "cell_type": "code",
   "execution_count": 38,
   "metadata": {},
   "outputs": [
    {
     "data": {
      "text/html": [
       "<div>\n",
       "<style scoped>\n",
       "    .dataframe tbody tr th:only-of-type {\n",
       "        vertical-align: middle;\n",
       "    }\n",
       "\n",
       "    .dataframe tbody tr th {\n",
       "        vertical-align: top;\n",
       "    }\n",
       "\n",
       "    .dataframe thead th {\n",
       "        text-align: right;\n",
       "    }\n",
       "</style>\n",
       "<table border=\"1\" class=\"dataframe\">\n",
       "  <thead>\n",
       "    <tr style=\"text-align: right;\">\n",
       "      <th></th>\n",
       "      <th>first_name</th>\n",
       "      <th>Num_trans</th>\n",
       "    </tr>\n",
       "    <tr>\n",
       "      <th>customer_id</th>\n",
       "      <th></th>\n",
       "      <th></th>\n",
       "    </tr>\n",
       "  </thead>\n",
       "  <tbody>\n",
       "    <tr>\n",
       "      <td>CUS-2487424745</td>\n",
       "      <td>Diana</td>\n",
       "      <td>531</td>\n",
       "    </tr>\n",
       "    <tr>\n",
       "      <td>CUS-2142601169</td>\n",
       "      <td>Michael</td>\n",
       "      <td>276</td>\n",
       "    </tr>\n",
       "    <tr>\n",
       "      <td>CUS-3026014945</td>\n",
       "      <td>Tonya</td>\n",
       "      <td>248</td>\n",
       "    </tr>\n",
       "    <tr>\n",
       "      <td>CUS-1614226872</td>\n",
       "      <td>Rhonda</td>\n",
       "      <td>220</td>\n",
       "    </tr>\n",
       "    <tr>\n",
       "      <td>CUS-860700529</td>\n",
       "      <td>Jeffrey</td>\n",
       "      <td>206</td>\n",
       "    </tr>\n",
       "    <tr>\n",
       "      <td>...</td>\n",
       "      <td>...</td>\n",
       "      <td>...</td>\n",
       "    </tr>\n",
       "    <tr>\n",
       "      <td>CUS-495599312</td>\n",
       "      <td>Jonathan</td>\n",
       "      <td>9</td>\n",
       "    </tr>\n",
       "    <tr>\n",
       "      <td>CUS-3151318058</td>\n",
       "      <td>Eric</td>\n",
       "      <td>9</td>\n",
       "    </tr>\n",
       "    <tr>\n",
       "      <td>CUS-2500783281</td>\n",
       "      <td>Marissa</td>\n",
       "      <td>4</td>\n",
       "    </tr>\n",
       "    <tr>\n",
       "      <td>CUS-2630892467</td>\n",
       "      <td>Karen</td>\n",
       "      <td>4</td>\n",
       "    </tr>\n",
       "    <tr>\n",
       "      <td>CUS-1646183815</td>\n",
       "      <td>Andrew</td>\n",
       "      <td>3</td>\n",
       "    </tr>\n",
       "  </tbody>\n",
       "</table>\n",
       "<p>100 rows × 2 columns</p>\n",
       "</div>"
      ],
      "text/plain": [
       "               first_name  Num_trans\n",
       "customer_id                         \n",
       "CUS-2487424745      Diana        531\n",
       "CUS-2142601169    Michael        276\n",
       "CUS-3026014945      Tonya        248\n",
       "CUS-1614226872     Rhonda        220\n",
       "CUS-860700529     Jeffrey        206\n",
       "...                   ...        ...\n",
       "CUS-495599312    Jonathan          9\n",
       "CUS-3151318058       Eric          9\n",
       "CUS-2500783281    Marissa          4\n",
       "CUS-2630892467      Karen          4\n",
       "CUS-1646183815     Andrew          3\n",
       "\n",
       "[100 rows x 2 columns]"
      ]
     },
     "execution_count": 38,
     "metadata": {},
     "output_type": "execute_result"
    }
   ],
   "source": [
    "trans_count=pd.DataFrame(cust_grouped.movement.count().sort_values(ascending=False))\n",
    "trans_count.reset_index('first_name',inplace=True)\n",
    "trans_count.rename(columns={'movement':'Num_trans'},inplace=True)\n",
    "trans_count"
   ]
  },
  {
   "cell_type": "code",
   "execution_count": 39,
   "metadata": {
    "colab": {},
    "colab_type": "code",
    "id": "zDu67jwcFbCX",
    "outputId": "18e5bd14-c1ba-44ce-c1a2-e49e1ab4dc85"
   },
   "outputs": [
    {
     "data": {
      "image/png": "[encoded data removed]",
      "text/plain": [
       "<Figure size 1152x432 with 2 Axes>"
      ]
     },
     "metadata": {
      "needs_background": "light"
     },
     "output_type": "display_data"
    }
   ],
   "source": [
    "fig,(ax1,ax2)=plt.subplots(nrows=1,ncols=2,figsize=(16,6))\n",
    "sns.barplot(x=trans_count.first_name.head(10),y=trans_count.Num_trans.head(10),ax=ax1)\n",
    "ax1.set_title('Account holders with most transactions')\n",
    "sns.barplot(x=trans_count.first_name.tail(10),y=trans_count.Num_trans.tail(10),ax=ax2)\n",
    "ax2.set_title('Accounts holder with least transactions')\n",
    "plt.show()"
   ]
  },
  {
   "cell_type": "markdown",
   "metadata": {},
   "source": [
    "### Daily and Month wise spending"
   ]
  },
  {
   "cell_type": "code",
   "execution_count": 40,
   "metadata": {},
   "outputs": [
    {
     "name": "stdout",
     "output_type": "stream",
     "text": [
      "Average on Daily Basics Transctions in AUD \n",
      " Weekday\n",
      "Sunday        53.015845\n",
      "Saturday      54.419286\n",
      "Thursday     184.010422\n",
      "Wednesday    195.215570\n",
      "Tuesday      221.576456\n",
      "Friday       249.353517\n",
      "Monday       373.221000\n",
      "Name: amount, dtype: float64\n",
      "\n",
      "Average Monthly Transactions in AUD \n",
      " Month\n",
      "August       185.121867\n",
      "October      196.427323\n",
      "September    182.045903\n",
      "Name: amount, dtype: float64\n"
     ]
    }
   ],
   "source": [
    "print('Average on Daily Basics Transctions in AUD \\n',bank_ANZ.groupby('Weekday').amount.mean().sort_values(ascending=True))\n",
    "print()\n",
    "print('Average Monthly Transactions in AUD \\n',bank_ANZ.groupby('Month').amount.mean())"
   ]
  },
  {
   "cell_type": "code",
   "execution_count": 41,
   "metadata": {},
   "outputs": [
    {
     "data": {
      "image/png": "[encoded data removed]",
      "text/plain": [
       "<Figure size 720x720 with 2 Axes>"
      ]
     },
     "metadata": {
      "needs_background": "light"
     },
     "output_type": "display_data"
    }
   ],
   "source": [
    "fig,(ax1,ax2)=plt.subplots(nrows=2,ncols=1,figsize=(10,10))\n",
    "\n",
    "ax1.plot(bank_ANZ.groupby('Weekday').movement.count().sort_values(ascending=True),c='g')\n",
    "ax1.set_title(\"Day wise Transaction\",fontsize=15)\n",
    "\n",
    "ax2.plot(bank_ANZ.groupby('Month').movement.count().sort_values(ascending=True),c='b')\n",
    "ax2.set_title(\"Monthly Spending\",fontsize=15)\n",
    "plt.show()\n"
   ]
  },
  {
   "cell_type": "code",
   "execution_count": 42,
   "metadata": {},
   "outputs": [
    {
     "data": {
      "image/png": "[encoded data removed]",
      "text/plain": [
       "<Figure size 720x360 with 1 Axes>"
      ]
     },
     "metadata": {
      "needs_background": "light"
     },
     "output_type": "display_data"
    }
   ],
   "source": [
    "plt.figure(figsize=(10,5))\n",
    "plt.plot(Authorized_Data.groupby('Weekday').amount.count().sort_values(),alpha=0.8,c='r')\n",
    "plt.title(\"Day wise Shopping Volume\",fontsize=15)\n",
    "plt.show()"
   ]
  },
  {
   "cell_type": "code",
   "execution_count": 43,
   "metadata": {},
   "outputs": [
    {
     "data": {
      "image/png": "[encoded data removed]",
      "text/plain": [
       "<Figure size 720x360 with 1 Axes>"
      ]
     },
     "metadata": {
      "needs_background": "light"
     },
     "output_type": "display_data"
    }
   ],
   "source": [
    "plt.figure(figsize=(10,5))\n",
    "merchant[merchant[\"merchant_state\"] != \"N.A\"][\"merchant_state\"].value_counts().plot(kind=\"bar\")\n",
    "plt.title('Statewise Sales',fontsize=25)\n",
    "plt.show()"
   ]
  },
  {
   "cell_type": "code",
   "execution_count": 44,
   "metadata": {},
   "outputs": [],
   "source": [
    "crs = {'init':\"epsg:4326\"}"
   ]
  },
  {
   "cell_type": "code",
   "execution_count": 45,
   "metadata": {},
   "outputs": [],
   "source": [
    "geometry = [Point(xy) for xy in zip(Authorized_Data[\"Merchant_long\"],Authorized_Data[\"Merchant_lat\"])]\n",
    "geo_df = gpd.GeoDataFrame(Authorized_Data,crs = crs ,geometry=geometry)\n",
    "Australia = gpd.read_file(\"E:\\AI\\Vir_Intrenship\\ANZ\\AUS\\AUS.shp\")"
   ]
  },
  {
   "cell_type": "code",
   "execution_count": 46,
   "metadata": {},
   "outputs": [
    {
     "data": {
      "text/plain": [
       "<matplotlib.legend.Legend at 0x2f53b285348>"
      ]
     },
     "execution_count": 46,
     "metadata": {},
     "output_type": "execute_result"
    },
    {
     "data": {
      "image/png": "[encoded data removed]",
      "text/plain": [
       "<Figure size 720x720 with 1 Axes>"
      ]
     },
     "metadata": {},
     "output_type": "display_data"
    }
   ],
   "source": [
    "plt.style.use(\"seaborn\")\n",
    "fig,ax = plt.subplots(figsize = (10,10))\n",
    "plt.title('Geo Location/ tagging of money Spending my Coustomer',fontsize=20)\n",
    "Australia.plot(ax=ax)\n",
    "geo_df[geo_df[\"merchant_state\"] == \"QLD\"].plot(ax=ax,markersize = 20,color = \"red\",marker = \"^\",label=\"QLD\")\n",
    "geo_df[geo_df[\"merchant_state\"] == \"NSW\"].plot(ax=ax,markersize = 20,color = \"yellow\",marker = \"o\",label=\"NSW\")\n",
    "geo_df[geo_df[\"merchant_state\"] == \"VIC\"].plot(ax=ax,markersize = 20,color = \"green\",marker = \"*\",label=\"VIC\")\n",
    "geo_df[geo_df[\"merchant_state\"] == \"WA\"].plot(ax=ax,markersize = 20,color = \"black\",marker = \"o\",label=\"WA\")\n",
    "geo_df[geo_df[\"merchant_state\"] == \"SA\"].plot(ax=ax,markersize = 20,color = \"purple\",marker = \"^\",label=\"SA\")\n",
    "geo_df[geo_df[\"merchant_state\"] == \"NT\"].plot(ax=ax,markersize = 20,color = \"brown\",marker = \"*\",label=\"NT\")\n",
    "geo_df[geo_df[\"merchant_state\"] == \"TAS\"].plot(ax=ax,markersize = 20,color = \"blue\",marker = \"^\",label=\"TAS\")\n",
    "geo_df[geo_df[\"merchant_state\"] == \"ACT\"].plot(ax=ax,markersize = 20,color = \"orange\",marker = \"o\",label=\"ACT\")\n",
    "plt.legend()"
   ]
  },
  {
   "cell_type": "code",
   "execution_count": null,
   "metadata": {},
   "outputs": [],
   "source": []
  },
  {
   "cell_type": "code",
   "execution_count": null,
   "metadata": {},
   "outputs": [],
   "source": []
  }
 ],
 "metadata": {
  "colab": {
   "name": "Data_ANZ.ipynb",
   "provenance": []
  },
  "kernelspec": {
   "display_name": "Python 3",
   "language": "python",
   "name": "python3"
  },
  "language_info": {
   "codemirror_mode": {
    "name": "ipython",
    "version": 3
   },
   "file_extension": ".py",
   "mimetype": "text/x-python",
   "name": "python",
   "nbconvert_exporter": "python",
   "pygments_lexer": "ipython3",
   "version": "3.7.4"
  }
 },
 "nbformat": 4,
 "nbformat_minor": 4
}
